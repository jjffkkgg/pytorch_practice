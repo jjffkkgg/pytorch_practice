{
 "cells": [
  {
   "cell_type": "code",
   "execution_count": 1,
   "metadata": {
    "colab": {
     "base_uri": "https://localhost:8080/",
     "height": 161
    },
    "colab_type": "code",
    "executionInfo": {
     "elapsed": 11621,
     "status": "ok",
     "timestamp": 1600067529273,
     "user": {
      "displayName": "Taehwan Seo",
      "photoUrl": "",
      "userId": "06395709366113538068"
     },
     "user_tz": -540
    },
    "id": "NQu37SSKdBO1",
    "outputId": "138173c6-20a0-4471-895a-8294e2d1fdb4"
   },
   "outputs": [
    {
     "name": "stdout",
     "output_type": "stream",
     "text": [
      "Requirement already satisfied: torch in /usr/local/lib/python3.6/dist-packages (1.6.0+cu101)\n",
      "Requirement already satisfied: future in /usr/local/lib/python3.6/dist-packages (from torch) (0.16.0)\n",
      "Requirement already satisfied: numpy in /usr/local/lib/python3.6/dist-packages (from torch) (1.18.5)\n",
      "Collecting casadi\n",
      "\u001b[?25l  Downloading https://files.pythonhosted.org/packages/62/55/61a10cad304f80621836b811d70666c06a9c22863768cc23edd6904bb35f/casadi-3.5.5-cp36-none-manylinux1_x86_64.whl (34.2MB)\n",
      "\u001b[K     |████████████████████████████████| 34.2MB 114kB/s \n",
      "\u001b[?25hInstalling collected packages: casadi\n",
      "Successfully installed casadi-3.5.5\n"
     ]
    }
   ],
   "source": [
    "!pip install torch\n",
    "!pip install casadi"
   ]
  },
  {
   "cell_type": "code",
   "execution_count": 1,
   "metadata": {
    "colab": {},
    "colab_type": "code",
    "executionInfo": {
     "elapsed": 716,
     "status": "ok",
     "timestamp": 1600067558071,
     "user": {
      "displayName": "Taehwan Seo",
      "photoUrl": "",
      "userId": "06395709366113538068"
     },
     "user_tz": -540
    },
    "id": "V6gmGuVwc8b5"
   },
   "outputs": [],
   "source": [
    "import casadi as ca\n",
    "import torch\n",
    "import torch.nn as nn\n",
    "import torch.nn.functional as F\n",
    "import numpy as np"
   ]
  },
  {
   "cell_type": "code",
   "execution_count": null,
   "metadata": {
    "colab": {},
    "colab_type": "code",
    "id": "HDAygTLNc8cM",
    "outputId": "d5e00c70-6c62-4cf5-d00c-e3cfbae9fe60"
   },
   "outputs": [
    {
     "ename": "TypeError",
     "evalue": "Cannot interpret '10' as a data type",
     "output_type": "error",
     "traceback": [
      "\u001b[0;31m---------------------------------------------------------------------------\u001b[0m",
      "\u001b[0;31mTypeError\u001b[0m                                 Traceback (most recent call last)",
      "\u001b[0;32m<ipython-input-15-875993092496>\u001b[0m in \u001b[0;36m<module>\u001b[0;34m\u001b[0m\n\u001b[0;32m----> 1\u001b[0;31m \u001b[0ma\u001b[0m \u001b[0;34m=\u001b[0m \u001b[0mnp\u001b[0m\u001b[0;34m.\u001b[0m\u001b[0mzeros\u001b[0m\u001b[0;34m(\u001b[0m\u001b[0;36m3\u001b[0m\u001b[0;34m,\u001b[0m\u001b[0;36m10\u001b[0m\u001b[0;34m)\u001b[0m\u001b[0;34m\u001b[0m\u001b[0;34m\u001b[0m\u001b[0m\n\u001b[0m\u001b[1;32m      2\u001b[0m \u001b[0ma\u001b[0m\u001b[0;34m\u001b[0m\u001b[0;34m\u001b[0m\u001b[0m\n",
      "\u001b[0;31mTypeError\u001b[0m: Cannot interpret '10' as a data type"
     ]
    }
   ],
   "source": [
    "a = np.zeros(3,10)\n",
    "a"
   ]
  },
  {
   "cell_type": "code",
   "execution_count": 8,
   "metadata": {
    "colab": {},
    "colab_type": "code",
    "executionInfo": {
     "elapsed": 703,
     "status": "ok",
     "timestamp": 1600068102147,
     "user": {
      "displayName": "Taehwan Seo",
      "photoUrl": "",
      "userId": "06395709366113538068"
     },
     "user_tz": -540
    },
    "id": "IUjWepa3c8c1"
   },
   "outputs": [],
   "source": [
    "def mix2motor(u_mix):\n",
    "    '''from input of control to each motor duty'''\n",
    "    map = np.linalg.inv(np.array([\n",
    "        [-1,1,1,-1],\n",
    "        [1,-1,1,-1],\n",
    "        [1,1,-1,-1],\n",
    "        [1,1,1,1]]))\n",
    "    return ca.mtimes(map,u_mix)\n",
    "\n",
    "def saturate(motor: ca.SX, len: int) -> ca.SX:\n",
    "    ''' saturate the input motor voltage '''\n",
    "    for i in range(4):\n",
    "        v = motor[i]\n",
    "        v = ca.if_else(v > 1, 1, ca.if_else(v < 0, 0, v))\n",
    "        motor[i] = v\n",
    "    return motor\n"
   ]
  },
  {
   "cell_type": "code",
   "execution_count": 9,
   "metadata": {
    "colab": {
     "base_uri": "https://localhost:8080/",
     "height": 55
    },
    "colab_type": "code",
    "executionInfo": {
     "elapsed": 642,
     "status": "ok",
     "timestamp": 1600068109631,
     "user": {
      "displayName": "Taehwan Seo",
      "photoUrl": "",
      "userId": "06395709366113538068"
     },
     "user_tz": -540
    },
    "id": "of6dHc0NdYzc",
    "outputId": "c6437511-8d91-42bb-cbe2-7c7cc61cb37d"
   },
   "outputs": [
    {
     "data": {
      "text/plain": [
       "SX(@1=1, @2=-0.25, @3=0.25, @4=((((@2*u_mix_0)+(@3*u_mix_1))+(@3*u_mix_2))+(@3*u_mix_3)), @5=(@1<@4), @6=0, @7=((((@3*u_mix_0)+(@2*u_mix_1))+(@3*u_mix_2))+(@3*u_mix_3)), @8=(@1<@7), @9=((((@3*u_mix_0)+(@3*u_mix_1))+(@2*u_mix_2))+(@3*u_mix_3)), @10=(@1<@9), @11=((((@2*u_mix_0)+(@2*u_mix_1))+(@2*u_mix_2))+(@3*u_mix_3)), @12=(@1<@11), [((@5?@1:0)+((!@5)?((!(@4<@6))?@4:0):0)), ((@8?@1:0)+((!@8)?((!(@7<@6))?@7:0):0)), ((@10?@1:0)+((!@10)?((!(@9<@6))?@9:0):0)), ((@12?@1:0)+((!@12)?((!(@11<@6))?@11:0):0))])"
      ]
     },
     "execution_count": 9,
     "metadata": {
      "tags": []
     },
     "output_type": "execute_result"
    }
   ],
   "source": [
    "u_mix = ca.SX.sym('u_mix', 4)\n",
    "u_motor = saturate(mix2motor(u_mix), 4)                           # convert u_mix(angle input) to motor duty\n",
    "\n",
    "u_motor"
   ]
  },
  {
   "cell_type": "code",
   "execution_count": 31,
   "metadata": {
    "colab": {
     "base_uri": "https://localhost:8080/",
     "height": 35
    },
    "colab_type": "code",
    "executionInfo": {
     "elapsed": 623,
     "status": "ok",
     "timestamp": 1600072982905,
     "user": {
      "displayName": "Taehwan Seo",
      "photoUrl": "",
      "userId": "06395709366113538068"
     },
     "user_tz": -540
    },
    "id": "hVcXCz7HxhXy",
    "outputId": "bf1afdba-f952-41fa-a75c-f4741d537c55"
   },
   "outputs": [
    {
     "data": {
      "text/plain": [
       "DM([3, 3, 3, 3])"
      ]
     },
     "execution_count": 31,
     "metadata": {
      "tags": []
     },
     "output_type": "execute_result"
    }
   ],
   "source": [
    "mix2motor(np.array([[0],[0],[0],[12]]))"
   ]
  },
  {
   "cell_type": "code",
   "execution_count": 16,
   "metadata": {
    "colab": {},
    "colab_type": "code",
    "executionInfo": {
     "elapsed": 890,
     "status": "ok",
     "timestamp": 1600072247792,
     "user": {
      "displayName": "Taehwan Seo",
      "photoUrl": "",
      "userId": "06395709366113538068"
     },
     "user_tz": -540
    },
    "id": "xhXPmgDce7aL"
   },
   "outputs": [],
   "source": [
    "def thrust(throttle, rho, r, V, kV, CT, Cm):\n",
    "    \"\"\"\n",
    "    throttle: 0-1 controls voltage, []\n",
    "    rho: density of air, [kg/m^3]\n",
    "    r: radius of propeller, [m]\n",
    "    V: voltage of battery [V]\n",
    "    kV: motor kV constant, [rpm/V]\n",
    "    \"\"\"\n",
    "    omega = throttle*V*kV*(2*ca.pi/60)\n",
    "    q = 0.5*rho*(omega*r)**2\n",
    "    s = ca.pi*r**2\n",
    "\n",
    "    return CT*q*s,Cm*q*s"
   ]
  },
  {
   "cell_type": "code",
   "execution_count": 36,
   "metadata": {
    "colab": {
     "base_uri": "https://localhost:8080/",
     "height": 35
    },
    "colab_type": "code",
    "executionInfo": {
     "elapsed": 796,
     "status": "ok",
     "timestamp": 1600074253553,
     "user": {
      "displayName": "Taehwan Seo",
      "photoUrl": "",
      "userId": "06395709366113538068"
     },
     "user_tz": -540
    },
    "id": "71m2Ay1YgJrq",
    "outputId": "de4e7ab9-a468-4e37-ce65-eca0aeae6150"
   },
   "outputs": [
    {
     "data": {
      "text/plain": [
       "(0.0, 0.0)"
      ]
     },
     "execution_count": 36,
     "metadata": {
      "tags": []
     },
     "output_type": "execute_result"
    }
   ],
   "source": [
    "thrust(0, 1.224, 0.1, 11.1, 1550, 1.0e-2, 1e-4)"
   ]
  },
  {
   "cell_type": "code",
   "execution_count": 33,
   "metadata": {
    "colab": {
     "base_uri": "https://localhost:8080/",
     "height": 71
    },
    "colab_type": "code",
    "executionInfo": {
     "elapsed": 540,
     "status": "ok",
     "timestamp": 1600073451441,
     "user": {
      "displayName": "Taehwan Seo",
      "photoUrl": "",
      "userId": "06395709366113538068"
     },
     "user_tz": -540
    },
    "id": "Hpp16T4fvMXp",
    "outputId": "5da719e1-aa44-4413-fd87-c6f5a82b8612"
   },
   "outputs": [
    {
     "data": {
      "text/plain": [
       "array([[1, 0, 1],\n",
       "       [0, 0, 1],\n",
       "       [0, 1, 1]])"
      ]
     },
     "execution_count": 33,
     "metadata": {
      "tags": []
     },
     "output_type": "execute_result"
    }
   ],
   "source": [
    "np.array([[1,0,0],[0,0,1],[1,1,1]]).T"
   ]
  },
  {
   "cell_type": "code",
   "execution_count": 3,
   "metadata": {
    "colab": {},
    "colab_type": "code",
    "id": "wIQOKxdjzzS-"
   },
   "outputs": [
    {
     "data": {
      "text/plain": [
       "array([[-0.25,  0.25,  0.25,  0.25],\n",
       "       [ 0.25, -0.25,  0.25,  0.25],\n",
       "       [ 0.25,  0.25, -0.25,  0.25],\n",
       "       [-0.25, -0.25, -0.25,  0.25]])"
      ]
     },
     "execution_count": 3,
     "metadata": {},
     "output_type": "execute_result"
    }
   ],
   "source": [
    "map = np.linalg.inv(np.array([\n",
    "        [-1,1,1,-1],\n",
    "        [1,-1,1,-1],\n",
    "        [1,1,-1,-1],\n",
    "        [1,1,1,1]]))\n",
    "map"
   ]
  },
  {
   "cell_type": "code",
   "execution_count": 10,
   "metadata": {},
   "outputs": [
    {
     "output_type": "execute_result",
     "data": {
      "text/plain": "True"
     },
     "metadata": {},
     "execution_count": 10
    }
   ],
   "source": [
    "1.0 == True"
   ]
  },
  {
   "cell_type": "code",
   "execution_count": 48,
   "metadata": {},
   "outputs": [
    {
     "output_type": "execute_result",
     "data": {
      "text/plain": "tensor([[0.],\n        [1.],\n        [0.],\n        [0.],\n        [0.],\n        [1.],\n        [1.],\n        [1.],\n        [0.]])"
     },
     "metadata": {},
     "execution_count": 48
    }
   ],
   "source": [
    "a = [1,0,1,1,1,0,0,0,1]\n",
    "p = torch.FloatTensor([[1.0] if a_b else [0.0] for a_b in a])\n",
    "\n",
    "pp = torch.FloatTensor()\n",
    "for i in a:\n",
    "    if i:\n",
    "        pn = torch.FloatTensor([[1.0]])\n",
    "    else:\n",
    "        pn = torch.FloatTensor([[0.0]])\n",
    "    pp = torch.cat((pp,pn), dim=0)\n",
    "1-pp"
   ]
  },
  {
   "cell_type": "code",
   "execution_count": 22,
   "metadata": {},
   "outputs": [
    {
     "output_type": "execute_result",
     "data": {
      "text/plain": "array([], dtype=float64)"
     },
     "metadata": {},
     "execution_count": 22
    }
   ],
   "source": [
    "a = np.array([])\n",
    "a"
   ]
  },
  {
   "cell_type": "code",
   "execution_count": 2,
   "metadata": {},
   "outputs": [],
   "source": [
    "a = np.random.randint(0,10,(5,12))"
   ]
  },
  {
   "cell_type": "code",
   "execution_count": 45,
   "metadata": {},
   "outputs": [
    {
     "output_type": "execute_result",
     "data": {
      "text/plain": "43"
     },
     "metadata": {},
     "execution_count": 45
    }
   ],
   "source": [
    "a[4].sum()"
   ]
  },
  {
   "cell_type": "code",
   "execution_count": 46,
   "metadata": {},
   "outputs": [
    {
     "output_type": "error",
     "ename": "ValueError",
     "evalue": "could not broadcast input array from shape (0) into shape (12)",
     "traceback": [
      "\u001b[0;31m---------------------------------------------------------------------------\u001b[0m",
      "\u001b[0;31mValueError\u001b[0m                                Traceback (most recent call last)",
      "\u001b[0;32m&lt;ipython-input-46-e09269259aa3&gt;\u001b[0m in \u001b[0;36m&lt;module&gt;\u001b[0;34m\u001b[0m\n\u001b[0;32m----&gt; 1\u001b[0;31m \u001b[0ma\u001b[0m\u001b[0;34m[\u001b[0m\u001b[0;36m2\u001b[0m\u001b[0;34m]\u001b[0m \u001b[0;34m=\u001b[0m \u001b[0mnp\u001b[0m\u001b[0;34m.\u001b[0m\u001b[0marray\u001b[0m\u001b[0;34m(\u001b[0m\u001b[0;34m[\u001b[0m\u001b[0;34m[\u001b[0m\u001b[0;34m]\u001b[0m\u001b[0;34m]\u001b[0m\u001b[0;34m)\u001b[0m\u001b[0;34m\u001b[0m\u001b[0;34m\u001b[0m\u001b[0m\n\u001b[0m",
      "\u001b[0;31mValueError\u001b[0m: could not broadcast input array from shape (0) into shape (12)"
     ]
    }
   ],
   "source": [
    "a[2] = np.array([[]])"
   ]
  },
  {
   "cell_type": "code",
   "execution_count": 3,
   "metadata": {},
   "outputs": [
    {
     "output_type": "execute_result",
     "data": {
      "text/plain": "array([[3, 7, 0, 4, 0, 6, 6, 9, 3, 3, 1, 5],\n       [8, 1, 9, 5, 6, 1, 3, 3, 4, 4, 0, 5],\n       [6, 2, 6, 8, 6, 5, 7, 8, 0, 1, 1, 4],\n       [5, 4, 7, 8, 0, 1, 1, 7, 2, 1, 8, 9],\n       [7, 3, 3, 5, 6, 2, 9, 4, 5, 2, 6, 3]])"
     },
     "metadata": {},
     "execution_count": 3
    }
   ],
   "source": [
    "a"
   ]
  },
  {
   "cell_type": "code",
   "execution_count": 13,
   "metadata": {},
   "outputs": [
    {
     "output_type": "execute_result",
     "data": {
      "text/plain": "3.5"
     },
     "metadata": {},
     "execution_count": 13
    }
   ],
   "source": [
    "a[0,:4].mean()"
   ]
  },
  {
   "cell_type": "code",
   "execution_count": null,
   "metadata": {},
   "outputs": [],
   "source": []
  }
 ],
 "metadata": {
  "colab": {
   "name": "scratch_paper.ipynb",
   "provenance": []
  },
  "kernelspec": {
   "display_name": "Python 3.7.8 64-bit ('pyt': conda)",
   "language": "python",
   "name": "python37864bitpytcondafd1b43a097a64d34bd7b82617eda6abc"
  },
  "language_info": {
   "codemirror_mode": {
    "name": "ipython",
    "version": 3
   },
   "file_extension": ".py",
   "mimetype": "text/x-python",
   "name": "python",
   "nbconvert_exporter": "python",
   "pygments_lexer": "ipython3",
   "version": "3.8.5-final"
  }
 },
 "nbformat": 4,
 "nbformat_minor": 4
}