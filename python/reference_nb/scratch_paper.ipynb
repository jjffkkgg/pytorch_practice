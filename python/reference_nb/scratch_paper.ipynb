{
 "cells": [
  {
   "cell_type": "code",
   "execution_count": 1,
   "metadata": {
    "colab": {
     "base_uri": "https://localhost:8080/",
     "height": 161
    },
    "colab_type": "code",
    "executionInfo": {
     "elapsed": 11621,
     "status": "ok",
     "timestamp": 1600067529273,
     "user": {
      "displayName": "Taehwan Seo",
      "photoUrl": "",
      "userId": "06395709366113538068"
     },
     "user_tz": -540
    },
    "id": "NQu37SSKdBO1",
    "outputId": "138173c6-20a0-4471-895a-8294e2d1fdb4"
   },
   "outputs": [
    {
     "name": "stdout",
     "output_type": "stream",
     "text": [
      "Requirement already satisfied: torch in /usr/local/lib/python3.6/dist-packages (1.6.0+cu101)\n",
      "Requirement already satisfied: future in /usr/local/lib/python3.6/dist-packages (from torch) (0.16.0)\n",
      "Requirement already satisfied: numpy in /usr/local/lib/python3.6/dist-packages (from torch) (1.18.5)\n",
      "Collecting casadi\n",
      "\u001b[?25l  Downloading https://files.pythonhosted.org/packages/62/55/61a10cad304f80621836b811d70666c06a9c22863768cc23edd6904bb35f/casadi-3.5.5-cp36-none-manylinux1_x86_64.whl (34.2MB)\n",
      "\u001b[K     |████████████████████████████████| 34.2MB 114kB/s \n",
      "\u001b[?25hInstalling collected packages: casadi\n",
      "Successfully installed casadi-3.5.5\n"
     ]
    }
   ],
   "source": [
    "!pip install torch\n",
    "!pip install casadi"
   ]
  },
  {
   "cell_type": "code",
   "execution_count": 1,
   "metadata": {
    "colab": {},
    "colab_type": "code",
    "executionInfo": {
     "elapsed": 716,
     "status": "ok",
     "timestamp": 1600067558071,
     "user": {
      "displayName": "Taehwan Seo",
      "photoUrl": "",
      "userId": "06395709366113538068"
     },
     "user_tz": -540
    },
    "id": "V6gmGuVwc8b5"
   },
   "outputs": [
    {
     "output_type": "error",
     "ename": "ModuleNotFoundError",
     "evalue": "No module named 'params'",
     "traceback": [
      "\u001b[0;31m---------------------------------------------------------------------------\u001b[0m",
      "\u001b[0;31mModuleNotFoundError\u001b[0m                       Traceback (most recent call last)",
      "\u001b[0;32m<ipython-input-1-93bd610c0694>\u001b[0m in \u001b[0;36m<module>\u001b[0;34m\u001b[0m\n\u001b[1;32m      8\u001b[0m \u001b[0;32mimport\u001b[0m \u001b[0msys\u001b[0m\u001b[0;34m\u001b[0m\u001b[0;34m\u001b[0m\u001b[0m\n\u001b[1;32m      9\u001b[0m \u001b[0msys\u001b[0m\u001b[0;34m.\u001b[0m\u001b[0mpath\u001b[0m\u001b[0;34m.\u001b[0m\u001b[0minsert\u001b[0m\u001b[0;34m(\u001b[0m\u001b[0;36m0\u001b[0m\u001b[0;34m,\u001b[0m\u001b[0;34m\"../test_system/quadrotor\"\u001b[0m\u001b[0;34m)\u001b[0m\u001b[0;34m\u001b[0m\u001b[0;34m\u001b[0m\u001b[0m\n\u001b[0;32m---> 10\u001b[0;31m \u001b[0;32mimport\u001b[0m \u001b[0mparams\u001b[0m \u001b[0;32mas\u001b[0m \u001b[0mpar\u001b[0m\u001b[0;34m\u001b[0m\u001b[0;34m\u001b[0m\u001b[0m\n\u001b[0m",
      "\u001b[0;31mModuleNotFoundError\u001b[0m: No module named 'params'"
     ]
    }
   ],
   "source": [
    "import casadi as ca\n",
    "import torch\n",
    "import torch.nn as nn\n",
    "import torch.nn.functional as F\n",
    "import numpy as np\n",
    "import json\n",
    "import itertools\n",
    "import sys\n",
    "sys.path.insert(0,\"../test_system/quadrotor\")\n",
    "import params as par"
   ]
  },
  {
   "cell_type": "code",
   "execution_count": null,
   "metadata": {
    "colab": {},
    "colab_type": "code",
    "id": "HDAygTLNc8cM",
    "outputId": "d5e00c70-6c62-4cf5-d00c-e3cfbae9fe60"
   },
   "outputs": [
    {
     "ename": "TypeError",
     "evalue": "Cannot interpret '10' as a data type",
     "output_type": "error",
     "traceback": [
      "\u001b[0;31m---------------------------------------------------------------------------\u001b[0m",
      "\u001b[0;31mTypeError\u001b[0m                                 Traceback (most recent call last)",
      "\u001b[0;32m<ipython-input-15-875993092496>\u001b[0m in \u001b[0;36m<module>\u001b[0;34m\u001b[0m\n\u001b[0;32m----> 1\u001b[0;31m \u001b[0ma\u001b[0m \u001b[0;34m=\u001b[0m \u001b[0mnp\u001b[0m\u001b[0;34m.\u001b[0m\u001b[0mzeros\u001b[0m\u001b[0;34m(\u001b[0m\u001b[0;36m3\u001b[0m\u001b[0;34m,\u001b[0m\u001b[0;36m10\u001b[0m\u001b[0;34m)\u001b[0m\u001b[0;34m\u001b[0m\u001b[0;34m\u001b[0m\u001b[0m\n\u001b[0m\u001b[1;32m      2\u001b[0m \u001b[0ma\u001b[0m\u001b[0;34m\u001b[0m\u001b[0;34m\u001b[0m\u001b[0m\n",
      "\u001b[0;31mTypeError\u001b[0m: Cannot interpret '10' as a data type"
     ]
    }
   ],
   "source": [
    "a = np.zeros(3,10)\n",
    "a"
   ]
  },
  {
   "cell_type": "code",
   "execution_count": 3,
   "metadata": {
    "colab": {},
    "colab_type": "code",
    "executionInfo": {
     "elapsed": 703,
     "status": "ok",
     "timestamp": 1600068102147,
     "user": {
      "displayName": "Taehwan Seo",
      "photoUrl": "",
      "userId": "06395709366113538068"
     },
     "user_tz": -540
    },
    "id": "IUjWepa3c8c1"
   },
   "outputs": [],
   "source": [
    "def mix2motor(u_mix):\n",
    "    '''from input of control to each motor duty'''\n",
    "    map = np.linalg.inv(np.array([\n",
    "        [-1,1,1,-1],\n",
    "        [1,-1,1,-1],\n",
    "        [1,1,-1,-1],\n",
    "        [1,1,1,1]]))\n",
    "    return ca.mtimes(map,u_mix)\n",
    "\n",
    "def saturate(motor: ca.SX, len: int) -> ca.SX:\n",
    "    ''' saturate the input motor voltage '''\n",
    "    for i in range(4):\n",
    "        v = motor[i]\n",
    "        v = ca.if_else(v > 1, 1, ca.if_else(v < 0, 0, v))\n",
    "        motor[i] = v\n",
    "    return motor\n"
   ]
  },
  {
   "cell_type": "code",
   "execution_count": 39,
   "metadata": {
    "colab": {
     "base_uri": "https://localhost:8080/",
     "height": 55
    },
    "colab_type": "code",
    "executionInfo": {
     "elapsed": 642,
     "status": "ok",
     "timestamp": 1600068109631,
     "user": {
      "displayName": "Taehwan Seo",
      "photoUrl": "",
      "userId": "06395709366113538068"
     },
     "user_tz": -540
    },
    "id": "of6dHc0NdYzc",
    "outputId": "c6437511-8d91-42bb-cbe2-7c7cc61cb37d"
   },
   "outputs": [
    {
     "data": {
      "text/plain": [
       "DM([0, 0, 0, 1])"
      ]
     },
     "execution_count": 39,
     "metadata": {},
     "output_type": "execute_result"
    }
   ],
   "source": [
    "u_mix = [-2,0,-2,0]\n",
    "u_motor = saturate(mix2motor(u_mix), 4)                           # convert u_mix(angle input) to motor duty\n",
    "u_motor"
   ]
  },
  {
   "cell_type": "code",
   "execution_count": 31,
   "metadata": {
    "colab": {
     "base_uri": "https://localhost:8080/",
     "height": 35
    },
    "colab_type": "code",
    "executionInfo": {
     "elapsed": 623,
     "status": "ok",
     "timestamp": 1600072982905,
     "user": {
      "displayName": "Taehwan Seo",
      "photoUrl": "",
      "userId": "06395709366113538068"
     },
     "user_tz": -540
    },
    "id": "hVcXCz7HxhXy",
    "outputId": "bf1afdba-f952-41fa-a75c-f4741d537c55"
   },
   "outputs": [
    {
     "data": {
      "text/plain": [
       "DM([3, 3, 3, 3])"
      ]
     },
     "execution_count": 31,
     "metadata": {
      "tags": []
     },
     "output_type": "execute_result"
    }
   ],
   "source": [
    "mix2motor(np.array([[0],[0],[0],[12]]))"
   ]
  },
  {
   "cell_type": "code",
   "execution_count": 16,
   "metadata": {
    "colab": {},
    "colab_type": "code",
    "executionInfo": {
     "elapsed": 890,
     "status": "ok",
     "timestamp": 1600072247792,
     "user": {
      "displayName": "Taehwan Seo",
      "photoUrl": "",
      "userId": "06395709366113538068"
     },
     "user_tz": -540
    },
    "id": "xhXPmgDce7aL"
   },
   "outputs": [],
   "source": [
    "def thrust(throttle, rho, r, V, kV, CT, Cm):\n",
    "    \"\"\"\n",
    "    throttle: 0-1 controls voltage, []\n",
    "    rho: density of air, [kg/m^3]\n",
    "    r: radius of propeller, [m]\n",
    "    V: voltage of battery [V]\n",
    "    kV: motor kV constant, [rpm/V]\n",
    "    \"\"\"\n",
    "    omega = throttle*V*kV*(2*ca.pi/60)\n",
    "    q = 0.5*rho*(omega*r)**2\n",
    "    s = ca.pi*r**2\n",
    "\n",
    "    return CT*q*s,Cm*q*s"
   ]
  },
  {
   "cell_type": "code",
   "execution_count": 36,
   "metadata": {
    "colab": {
     "base_uri": "https://localhost:8080/",
     "height": 35
    },
    "colab_type": "code",
    "executionInfo": {
     "elapsed": 796,
     "status": "ok",
     "timestamp": 1600074253553,
     "user": {
      "displayName": "Taehwan Seo",
      "photoUrl": "",
      "userId": "06395709366113538068"
     },
     "user_tz": -540
    },
    "id": "71m2Ay1YgJrq",
    "outputId": "de4e7ab9-a468-4e37-ce65-eca0aeae6150"
   },
   "outputs": [
    {
     "data": {
      "text/plain": [
       "(0.0, 0.0)"
      ]
     },
     "execution_count": 36,
     "metadata": {
      "tags": []
     },
     "output_type": "execute_result"
    }
   ],
   "source": [
    "thrust(0, 1.224, 0.1, 11.1, 1550, 1.0e-2, 1e-4)"
   ]
  },
  {
   "cell_type": "code",
   "execution_count": 33,
   "metadata": {
    "colab": {
     "base_uri": "https://localhost:8080/",
     "height": 71
    },
    "colab_type": "code",
    "executionInfo": {
     "elapsed": 540,
     "status": "ok",
     "timestamp": 1600073451441,
     "user": {
      "displayName": "Taehwan Seo",
      "photoUrl": "",
      "userId": "06395709366113538068"
     },
     "user_tz": -540
    },
    "id": "Hpp16T4fvMXp",
    "outputId": "5da719e1-aa44-4413-fd87-c6f5a82b8612"
   },
   "outputs": [
    {
     "data": {
      "text/plain": [
       "array([[1, 0, 1],\n",
       "       [0, 0, 1],\n",
       "       [0, 1, 1]])"
      ]
     },
     "execution_count": 33,
     "metadata": {
      "tags": []
     },
     "output_type": "execute_result"
    }
   ],
   "source": [
    "np.array([[1,0,0],[0,0,1],[1,1,1]]).T"
   ]
  },
  {
   "cell_type": "code",
   "execution_count": 3,
   "metadata": {
    "colab": {},
    "colab_type": "code",
    "id": "wIQOKxdjzzS-"
   },
   "outputs": [
    {
     "data": {
      "text/plain": [
       "array([[-0.25,  0.25,  0.25,  0.25],\n",
       "       [ 0.25, -0.25,  0.25,  0.25],\n",
       "       [ 0.25,  0.25, -0.25,  0.25],\n",
       "       [-0.25, -0.25, -0.25,  0.25]])"
      ]
     },
     "execution_count": 3,
     "metadata": {},
     "output_type": "execute_result"
    }
   ],
   "source": [
    "map = np.linalg.inv(np.array([\n",
    "        [-1,1,1,-1],\n",
    "        [1,-1,1,-1],\n",
    "        [1,1,-1,-1],\n",
    "        [1,1,1,1]]))\n",
    "map"
   ]
  },
  {
   "cell_type": "code",
   "execution_count": 10,
   "metadata": {},
   "outputs": [
    {
     "data": {
      "text/plain": [
       "True"
      ]
     },
     "execution_count": 10,
     "metadata": {},
     "output_type": "execute_result"
    }
   ],
   "source": [
    "1.0 == True"
   ]
  },
  {
   "cell_type": "code",
   "execution_count": 48,
   "metadata": {},
   "outputs": [
    {
     "data": {
      "text/plain": [
       "tensor([[0.],\n",
       "        [1.],\n",
       "        [0.],\n",
       "        [0.],\n",
       "        [0.],\n",
       "        [1.],\n",
       "        [1.],\n",
       "        [1.],\n",
       "        [0.]])"
      ]
     },
     "execution_count": 48,
     "metadata": {},
     "output_type": "execute_result"
    }
   ],
   "source": [
    "a = [1,0,1,1,1,0,0,0,1]\n",
    "p = torch.FloatTensor([[1.0] if a_b else [0.0] for a_b in a])\n",
    "\n",
    "pp = torch.FloatTensor()\n",
    "for i in a:\n",
    "    if i:\n",
    "        pn = torch.FloatTensor([[1.0]])\n",
    "    else:\n",
    "        pn = torch.FloatTensor([[0.0]])\n",
    "    pp = torch.cat((pp,pn), dim=0)\n",
    "1-pp"
   ]
  },
  {
   "cell_type": "code",
   "execution_count": 22,
   "metadata": {},
   "outputs": [
    {
     "data": {
      "text/plain": [
       "array([], dtype=float64)"
      ]
     },
     "execution_count": 22,
     "metadata": {},
     "output_type": "execute_result"
    }
   ],
   "source": [
    "a = np.array([])\n",
    "a"
   ]
  },
  {
   "cell_type": "code",
   "execution_count": 2,
   "metadata": {},
   "outputs": [],
   "source": [
    "a = np.random.randint(0,10,(5,12))"
   ]
  },
  {
   "cell_type": "code",
   "execution_count": 45,
   "metadata": {},
   "outputs": [
    {
     "data": {
      "text/plain": [
       "43"
      ]
     },
     "execution_count": 45,
     "metadata": {},
     "output_type": "execute_result"
    }
   ],
   "source": [
    "a[4].sum()"
   ]
  },
  {
   "cell_type": "code",
   "execution_count": 46,
   "metadata": {},
   "outputs": [
    {
     "ename": "ValueError",
     "evalue": "could not broadcast input array from shape (0) into shape (12)",
     "output_type": "error",
     "traceback": [
      "\u001b[0;31m---------------------------------------------------------------------------\u001b[0m",
      "\u001b[0;31mValueError\u001b[0m                                Traceback (most recent call last)",
      "\u001b[0;32m&lt;ipython-input-46-e09269259aa3&gt;\u001b[0m in \u001b[0;36m&lt;module&gt;\u001b[0;34m\u001b[0m\n\u001b[0;32m----&gt; 1\u001b[0;31m \u001b[0ma\u001b[0m\u001b[0;34m[\u001b[0m\u001b[0;36m2\u001b[0m\u001b[0;34m]\u001b[0m \u001b[0;34m=\u001b[0m \u001b[0mnp\u001b[0m\u001b[0;34m.\u001b[0m\u001b[0marray\u001b[0m\u001b[0;34m(\u001b[0m\u001b[0;34m[\u001b[0m\u001b[0;34m[\u001b[0m\u001b[0;34m]\u001b[0m\u001b[0;34m]\u001b[0m\u001b[0;34m)\u001b[0m\u001b[0;34m\u001b[0m\u001b[0;34m\u001b[0m\u001b[0m\n\u001b[0m",
      "\u001b[0;31mValueError\u001b[0m: could not broadcast input array from shape (0) into shape (12)"
     ]
    }
   ],
   "source": [
    "a[2] = np.array([[]])"
   ]
  },
  {
   "cell_type": "code",
   "execution_count": 3,
   "metadata": {},
   "outputs": [
    {
     "data": {
      "text/plain": [
       "array([[3, 7, 0, 4, 0, 6, 6, 9, 3, 3, 1, 5],\n",
       "       [8, 1, 9, 5, 6, 1, 3, 3, 4, 4, 0, 5],\n",
       "       [6, 2, 6, 8, 6, 5, 7, 8, 0, 1, 1, 4],\n",
       "       [5, 4, 7, 8, 0, 1, 1, 7, 2, 1, 8, 9],\n",
       "       [7, 3, 3, 5, 6, 2, 9, 4, 5, 2, 6, 3]])"
      ]
     },
     "execution_count": 3,
     "metadata": {},
     "output_type": "execute_result"
    }
   ],
   "source": [
    "a"
   ]
  },
  {
   "cell_type": "code",
   "execution_count": 13,
   "metadata": {},
   "outputs": [
    {
     "data": {
      "text/plain": [
       "3.5"
      ]
     },
     "execution_count": 13,
     "metadata": {},
     "output_type": "execute_result"
    }
   ],
   "source": [
    "a[0,:4].mean()"
   ]
  },
  {
   "cell_type": "code",
   "execution_count": 14,
   "metadata": {},
   "outputs": [],
   "source": [
    "a = np.zeros([3,32,100,12])\n",
    "b = np.zeros([32,100,12])\n",
    "c = np.zeros([32,100])\n",
    "e = np.zeros([32,100,4])"
   ]
  },
  {
   "cell_type": "code",
   "execution_count": 16,
   "metadata": {},
   "outputs": [
    {
     "ename": "ValueError",
     "evalue": "could not broadcast input array from shape (32,100,4) into shape (32,100,12)",
     "output_type": "error",
     "traceback": [
      "\u001b[0;31m---------------------------------------------------------------------------\u001b[0m",
      "\u001b[0;31mValueError\u001b[0m                                Traceback (most recent call last)",
      "\u001b[0;32m<ipython-input-16-1b6cc0bab3ed>\u001b[0m in \u001b[0;36m<module>\u001b[0;34m\u001b[0m\n\u001b[1;32m      1\u001b[0m \u001b[0ma\u001b[0m\u001b[0;34m[\u001b[0m\u001b[0;36m0\u001b[0m\u001b[0;34m]\u001b[0m \u001b[0;34m=\u001b[0m \u001b[0mb\u001b[0m\u001b[0;34m\u001b[0m\u001b[0;34m\u001b[0m\u001b[0m\n\u001b[1;32m      2\u001b[0m \u001b[0;31m# a[1] = c\u001b[0m\u001b[0;34m\u001b[0m\u001b[0;34m\u001b[0m\u001b[0;34m\u001b[0m\u001b[0m\n\u001b[0;32m----> 3\u001b[0;31m \u001b[0ma\u001b[0m\u001b[0;34m[\u001b[0m\u001b[0;36m2\u001b[0m\u001b[0;34m]\u001b[0m \u001b[0;34m=\u001b[0m \u001b[0me\u001b[0m\u001b[0;34m\u001b[0m\u001b[0;34m\u001b[0m\u001b[0m\n\u001b[0m",
      "\u001b[0;31mValueError\u001b[0m: could not broadcast input array from shape (32,100,4) into shape (32,100,12)"
     ]
    }
   ],
   "source": [
    "a[0] = b\n",
    "# a[1] = c\n",
    "a[2] = e"
   ]
  },
  {
   "cell_type": "code",
   "execution_count": 11,
   "metadata": {},
   "outputs": [
    {
     "data": {
      "text/plain": [
       "array([  3,  32, 100,  12])"
      ]
     },
     "execution_count": 11,
     "metadata": {},
     "output_type": "execute_result"
    }
   ],
   "source": [
    "a"
   ]
  },
  {
   "cell_type": "code",
   "execution_count": 4,
   "metadata": {},
   "outputs": [],
   "source": [
    "dic = {\n",
    "    'a': np.array([1,2,3,4]),\n",
    "    'b': np.array([[1,2,3],[4,5,6]]),\n",
    "    'c': 4\n",
    "}\n",
    "np.save('flight_data.npy', dic)\n",
    "# json.dump(dic, open('../flight_data.json', 'w'))"
   ]
  },
  {
   "cell_type": "code",
   "execution_count": 24,
   "metadata": {},
   "outputs": [
    {
     "data": {
      "text/plain": [
       "array([1, 2, 3])"
      ]
     },
     "execution_count": 24,
     "metadata": {},
     "output_type": "execute_result"
    }
   ],
   "source": [
    "data = np.load('flight_data.npy',allow_pickle=True).item()\n",
    "data['a'][:3]"
   ]
  },
  {
   "cell_type": "code",
   "execution_count": 26,
   "metadata": {},
   "outputs": [
    {
     "data": {
      "text/plain": [
       "4"
      ]
     },
     "execution_count": 26,
     "metadata": {},
     "output_type": "execute_result"
    }
   ],
   "source": [
    "len(np.zeros(4))"
   ]
  },
  {
   "cell_type": "code",
   "execution_count": 168,
   "metadata": {
    "tags": []
   },
   "outputs": [
    {
     "data": {
      "text/plain": [
       "{0: array([-0.001, -0.001, -0.001, -0.01 ]),\n",
       " 1: array([-0.001, -0.001, -0.001,  0.   ]),\n",
       " 2: array([-0.001, -0.001, -0.001,  0.01 ]),\n",
       " 3: array([-0.001, -0.001,  0.   , -0.01 ]),\n",
       " 4: array([-0.001, -0.001,  0.   ,  0.   ]),\n",
       " 5: array([-0.001, -0.001,  0.   ,  0.01 ]),\n",
       " 6: array([-0.001, -0.001,  0.001, -0.01 ]),\n",
       " 7: array([-0.001, -0.001,  0.001,  0.   ]),\n",
       " 8: array([-0.001, -0.001,  0.001,  0.01 ]),\n",
       " 9: array([-0.001,  0.   , -0.001, -0.01 ]),\n",
       " 10: array([-0.001,  0.   , -0.001,  0.   ]),\n",
       " 11: array([-0.001,  0.   , -0.001,  0.01 ]),\n",
       " 12: array([-0.001,  0.   ,  0.   , -0.01 ]),\n",
       " 13: array([-0.001,  0.   ,  0.   ,  0.   ]),\n",
       " 14: array([-0.001,  0.   ,  0.   ,  0.01 ]),\n",
       " 15: array([-0.001,  0.   ,  0.001, -0.01 ]),\n",
       " 16: array([-0.001,  0.   ,  0.001,  0.   ]),\n",
       " 17: array([-0.001,  0.   ,  0.001,  0.01 ]),\n",
       " 18: array([-0.001,  0.001, -0.001, -0.01 ]),\n",
       " 19: array([-0.001,  0.001, -0.001,  0.   ]),\n",
       " 20: array([-0.001,  0.001, -0.001,  0.01 ]),\n",
       " 21: array([-0.001,  0.001,  0.   , -0.01 ]),\n",
       " 22: array([-0.001,  0.001,  0.   ,  0.   ]),\n",
       " 23: array([-0.001,  0.001,  0.   ,  0.01 ]),\n",
       " 24: array([-0.001,  0.001,  0.001, -0.01 ]),\n",
       " 25: array([-0.001,  0.001,  0.001,  0.   ]),\n",
       " 26: array([-0.001,  0.001,  0.001,  0.01 ]),\n",
       " 27: array([ 0.   , -0.001, -0.001, -0.01 ]),\n",
       " 28: array([ 0.   , -0.001, -0.001,  0.   ]),\n",
       " 29: array([ 0.   , -0.001, -0.001,  0.01 ]),\n",
       " 30: array([ 0.   , -0.001,  0.   , -0.01 ]),\n",
       " 31: array([ 0.   , -0.001,  0.   ,  0.   ]),\n",
       " 32: array([ 0.   , -0.001,  0.   ,  0.01 ]),\n",
       " 33: array([ 0.   , -0.001,  0.001, -0.01 ]),\n",
       " 34: array([ 0.   , -0.001,  0.001,  0.   ]),\n",
       " 35: array([ 0.   , -0.001,  0.001,  0.01 ]),\n",
       " 36: array([ 0.   ,  0.   , -0.001, -0.01 ]),\n",
       " 37: array([ 0.   ,  0.   , -0.001,  0.   ]),\n",
       " 38: array([ 0.   ,  0.   , -0.001,  0.01 ]),\n",
       " 39: array([ 0.  ,  0.  ,  0.  , -0.01]),\n",
       " 40: array([0., 0., 0., 0.]),\n",
       " 41: array([0.  , 0.  , 0.  , 0.01]),\n",
       " 42: array([ 0.   ,  0.   ,  0.001, -0.01 ]),\n",
       " 43: array([0.   , 0.   , 0.001, 0.   ]),\n",
       " 44: array([0.   , 0.   , 0.001, 0.01 ]),\n",
       " 45: array([ 0.   ,  0.001, -0.001, -0.01 ]),\n",
       " 46: array([ 0.   ,  0.001, -0.001,  0.   ]),\n",
       " 47: array([ 0.   ,  0.001, -0.001,  0.01 ]),\n",
       " 48: array([ 0.   ,  0.001,  0.   , -0.01 ]),\n",
       " 49: array([0.   , 0.001, 0.   , 0.   ]),\n",
       " 50: array([0.   , 0.001, 0.   , 0.01 ]),\n",
       " 51: array([ 0.   ,  0.001,  0.001, -0.01 ]),\n",
       " 52: array([0.   , 0.001, 0.001, 0.   ]),\n",
       " 53: array([0.   , 0.001, 0.001, 0.01 ]),\n",
       " 54: array([ 0.001, -0.001, -0.001, -0.01 ]),\n",
       " 55: array([ 0.001, -0.001, -0.001,  0.   ]),\n",
       " 56: array([ 0.001, -0.001, -0.001,  0.01 ]),\n",
       " 57: array([ 0.001, -0.001,  0.   , -0.01 ]),\n",
       " 58: array([ 0.001, -0.001,  0.   ,  0.   ]),\n",
       " 59: array([ 0.001, -0.001,  0.   ,  0.01 ]),\n",
       " 60: array([ 0.001, -0.001,  0.001, -0.01 ]),\n",
       " 61: array([ 0.001, -0.001,  0.001,  0.   ]),\n",
       " 62: array([ 0.001, -0.001,  0.001,  0.01 ]),\n",
       " 63: array([ 0.001,  0.   , -0.001, -0.01 ]),\n",
       " 64: array([ 0.001,  0.   , -0.001,  0.   ]),\n",
       " 65: array([ 0.001,  0.   , -0.001,  0.01 ]),\n",
       " 66: array([ 0.001,  0.   ,  0.   , -0.01 ]),\n",
       " 67: array([0.001, 0.   , 0.   , 0.   ]),\n",
       " 68: array([0.001, 0.   , 0.   , 0.01 ]),\n",
       " 69: array([ 0.001,  0.   ,  0.001, -0.01 ]),\n",
       " 70: array([0.001, 0.   , 0.001, 0.   ]),\n",
       " 71: array([0.001, 0.   , 0.001, 0.01 ]),\n",
       " 72: array([ 0.001,  0.001, -0.001, -0.01 ]),\n",
       " 73: array([ 0.001,  0.001, -0.001,  0.   ]),\n",
       " 74: array([ 0.001,  0.001, -0.001,  0.01 ]),\n",
       " 75: array([ 0.001,  0.001,  0.   , -0.01 ]),\n",
       " 76: array([0.001, 0.001, 0.   , 0.   ]),\n",
       " 77: array([0.001, 0.001, 0.   , 0.01 ]),\n",
       " 78: array([ 0.001,  0.001,  0.001, -0.01 ]),\n",
       " 79: array([0.001, 0.001, 0.001, 0.   ]),\n",
       " 80: array([0.001, 0.001, 0.001, 0.01 ])}"
      ]
     },
     "execution_count": 168,
     "metadata": {},
     "output_type": "execute_result"
    }
   ],
   "source": [
    "action_roll = par.action_roll               # [V]\n",
    "action_pitch = par.action_pitch\n",
    "action_yaw = par.action_yaw\n",
    "action_thrust = par.action_thrust\n",
    "\n",
    "action_roll = np.array([action_roll,0,0,0])\n",
    "action_pitch = np.array([0,action_pitch,0,0])\n",
    "action_yaw = np.array([0,0,action_yaw,0])\n",
    "action_thrust = np.array([0,0,0,action_thrust])\n",
    "actions = np.vstack((action_roll, action_pitch, action_yaw, action_thrust, -action_roll, -action_pitch, -action_yaw, -action_thrust))\n",
    "k = np.zeros(4)\n",
    "dic_k = {}\n",
    "\n",
    "\n",
    "for j in range(8):\n",
    "    for i in range(len(list(itertools.combinations(actions, j+1)))):\n",
    "        k = np.vstack((k,sum(list(itertools.combinations(actions, j+1))[i])))\n",
    "\n",
    "k = np.unique(k,axis=0)\n",
    "\n",
    "for q in range(len(k)):\n",
    "    dic_k[q] = k[q]\n",
    "\n",
    "dic_k"
   ]
  },
  {
   "cell_type": "code",
   "execution_count": 131,
   "metadata": {},
   "outputs": [
    {
     "data": {
      "text/plain": [
       "[(array([1, 0, 0, 0]),\n",
       "  array([0, 1, 0, 0]),\n",
       "  array([0, 0, 1, 0]),\n",
       "  array([0, 0, 0, 1]),\n",
       "  array([-1,  0,  0,  0]),\n",
       "  array([ 0, -1,  0,  0]),\n",
       "  array([ 0,  0, -1,  0]),\n",
       "  array([ 0,  0,  0, -1]))]"
      ]
     },
     "execution_count": 131,
     "metadata": {},
     "output_type": "execute_result"
    }
   ],
   "source": [
    "list(itertools.combinations(actions, 8))"
   ]
  },
  {
   "cell_type": "code",
   "execution_count": 154,
   "metadata": {},
   "outputs": [
    {
     "data": {
      "text/plain": [
       "4"
      ]
     },
     "execution_count": 154,
     "metadata": {},
     "output_type": "execute_result"
    }
   ],
   "source": [
    "u = np.array([0.0,0.0,0.0,14])\n",
    "u.shape[0]"
   ]
  },
  {
   "cell_type": "code",
   "execution_count": 4,
   "metadata": {},
   "outputs": [
    {
     "data": {
      "text/plain": [
       "array([1, 2, 3, 4, 5, 6])"
      ]
     },
     "execution_count": 4,
     "metadata": {},
     "output_type": "execute_result"
    }
   ],
   "source": [
    "o = np.array([[1,2,3],\n",
    "              [4,5,6]])\n",
    "np.reshape(o,-1)"
   ]
  },
  {
   "cell_type": "code",
   "execution_count": 45,
   "metadata": {},
   "outputs": [
    {
     "name": "stdout",
     "output_type": "stream",
     "text": [
      "[[u_0, u_10, u_20, u_30]]\n",
      "[[u_1, u_11, u_21, u_31]]\n",
      "[[u_2, u_12, u_22, u_32]]\n",
      "[[u_3, u_13, u_23, u_33]]\n",
      "[[u_4, u_14, u_24, u_34]]\n",
      "[[u_5, u_15, u_25, u_35]]\n",
      "[[u_6, u_16, u_26, u_36]]\n",
      "[[u_7, u_17, u_27, u_37]]\n",
      "[[u_8, u_18, u_28, u_38]]\n",
      "[[u_9, u_19, u_29, u_39]]\n"
     ]
    }
   ],
   "source": [
    "u_vect = ca.SX.sym('u', 10,4)\n",
    "\n",
    "# u_vect\n",
    "for i in ca.vertsplit(u_vect,1):\n",
    "    print(i)"
   ]
  },
  {
   "cell_type": "code",
   "execution_count": 30,
   "metadata": {},
   "outputs": [
    {
     "name": "stdout",
     "output_type": "stream",
     "text": [
      "Object `ca.sx.sym.nz` not found.\n"
     ]
    }
   ],
   "source": [
    "ca.sx.sym.nz?"
   ]
  },
  {
   "cell_type": "code",
   "execution_count": 3,
   "metadata": {},
   "outputs": [
    {
     "data": {
      "text/plain": [
       "1.7320508075688772"
      ]
     },
     "execution_count": 3,
     "metadata": {},
     "output_type": "execute_result"
    }
   ],
   "source": [
    "a = np.array([1,2,3])\n",
    "a2 = np.array([2,3,4])\n",
    "\n",
    "np.linalg.norm(a2 - a)"
   ]
  },
  {
   "cell_type": "code",
   "execution_count": 14,
   "metadata": {},
   "outputs": [
    {
     "ename": "TypeError",
     "evalue": "type numpy.ndarray doesn't define __round__ method",
     "output_type": "error",
     "traceback": [
      "\u001b[0;31m---------------------------------------------------------------------------\u001b[0m",
      "\u001b[0;31mTypeError\u001b[0m                                 Traceback (most recent call last)",
      "\u001b[0;32m<ipython-input-14-e8f9287be1f7>\u001b[0m in \u001b[0;36m<module>\u001b[0;34m\u001b[0m\n\u001b[1;32m      2\u001b[0m \u001b[0mb\u001b[0m \u001b[0;34m=\u001b[0m \u001b[0mnp\u001b[0m\u001b[0;34m.\u001b[0m\u001b[0mzeros\u001b[0m\u001b[0;34m(\u001b[0m\u001b[0;34m[\u001b[0m\u001b[0;36m2\u001b[0m\u001b[0;34m,\u001b[0m\u001b[0;36m3\u001b[0m\u001b[0;34m]\u001b[0m\u001b[0;34m)\u001b[0m\u001b[0;34m\u001b[0m\u001b[0;34m\u001b[0m\u001b[0m\n\u001b[1;32m      3\u001b[0m \u001b[0mb\u001b[0m\u001b[0;34m[\u001b[0m\u001b[0;36m0\u001b[0m\u001b[0;34m]\u001b[0m \u001b[0;34m=\u001b[0m \u001b[0ma\u001b[0m\u001b[0;34m.\u001b[0m\u001b[0mT\u001b[0m\u001b[0;34m\u001b[0m\u001b[0;34m\u001b[0m\u001b[0m\n\u001b[0;32m----> 4\u001b[0;31m \u001b[0mround\u001b[0m\u001b[0;34m(\u001b[0m\u001b[0mb\u001b[0m\u001b[0;34m,\u001b[0m\u001b[0;36m4\u001b[0m\u001b[0;34m)\u001b[0m\u001b[0;34m\u001b[0m\u001b[0;34m\u001b[0m\u001b[0m\n\u001b[0m",
      "\u001b[0;31mTypeError\u001b[0m: type numpy.ndarray doesn't define __round__ method"
     ]
    }
   ],
   "source": [
    "a = ca.DM([0,1,2.3])\n",
    "b = np.zeros([2,3])\n",
    "b[0] = a.T\n",
    "round(b,4)"
   ]
  },
  {
   "cell_type": "code",
   "execution_count": 5,
   "metadata": {},
   "outputs": [
    {
     "data": {
      "text/plain": [
       "DM(4)"
      ]
     },
     "execution_count": 5,
     "metadata": {},
     "output_type": "execute_result"
    }
   ],
   "source": [
    "a = np.array([[2]])\n",
    "b = 2\n",
    "\n",
    "ca.dot(a,b)"
   ]
  },
  {
   "cell_type": "code",
   "execution_count": 3,
   "metadata": {},
   "outputs": [
    {
     "data": {
      "text/plain": [
       "array([[0.],\n",
       "       [0.],\n",
       "       [0.]])"
      ]
     },
     "execution_count": 3,
     "metadata": {},
     "output_type": "execute_result"
    }
   ],
   "source": [
    "np.zeros((3,1))"
   ]
  },
  {
   "cell_type": "code",
   "execution_count": 3,
   "metadata": {},
   "outputs": [
    {
     "output_type": "execute_result",
     "data": {
      "text/plain": [
       "10"
      ]
     },
     "metadata": {},
     "execution_count": 3
    }
   ],
   "source": [
    "np.arange(10).size"
   ]
  },
  {
   "cell_type": "code",
   "execution_count": null,
   "metadata": {},
   "outputs": [],
   "source": []
  }
 ],
 "metadata": {
  "colab": {
   "name": "scratch_paper.ipynb",
   "provenance": []
  },
  "kernelspec": {
   "display_name": "Python 3.7.8 64-bit ('pyt': conda)",
   "language": "python",
   "name": "python37864bitpytcondafd1b43a097a64d34bd7b82617eda6abc"
  },
  "language_info": {
   "codemirror_mode": {
    "name": "ipython",
    "version": 3
   },
   "file_extension": ".py",
   "mimetype": "text/x-python",
   "name": "python",
   "nbconvert_exporter": "python",
   "pygments_lexer": "ipython3",
   "version": "3.8.6-final"
  }
 },
 "nbformat": 4,
 "nbformat_minor": 4
}