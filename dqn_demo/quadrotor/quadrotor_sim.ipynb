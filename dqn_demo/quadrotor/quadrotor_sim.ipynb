{
 "cells": [
  {
   "cell_type": "code",
   "execution_count": 1,
   "metadata": {},
   "outputs": [],
   "source": [
    "import casadi as ca\n",
    "import scipy.integrate"
   ]
  },
  {
   "cell_type": "code",
   "execution_count": null,
   "metadata": {},
   "outputs": [],
   "source": [
    "# state (x)\n",
    "            \n",
    "x = ca.SX.sym('x',12)\n",
    "omega_b = x[0:3]                       # Angular velocity (body)\n",
    "vel_b = x[3:6]                         # Velocity (body)\n",
    "pos_n = x[6:9]                         # Position (inertial)\n",
    "euler = x[9:12]                        # Orientation (inertial)\n",
    "\n",
    "x0 = [0]*12\n",
    "\n",
    "# parameters\n",
    "l_arm = ca.SX.sym('l_arm')\n",
    "m = ca.SX.sym('m')\n",
    "rho = ca.SX.sym('rho')\n",
    "Jx = ca.SX.sym('Jx')\n",
    "Jy = ca.SX.sym('Jy')\n",
    "Jz = ca.SX.sym('Jz')\n",
    "CT = ca.SX.sym('CT')\n",
    "CM = ca.SX.sym('CM')\n",
    "kV = ca.SX.sym('kV')\n",
    "vBatt = ca.SX.sym('vBatt')\n",
    "r_prop = ca.SX.sym('r_prop')\n",
    "g = ca.SX.sym('g')\n",
    "tau = ca.SX.sym('tau')\n",
    "p = ca.vertcat(l_arm, m, kV, vBatt, rho, Jx, Jy, Jz, CT, CM, r_prop, g, tau)\n",
    "p0 = [1, 1, 1550, 11.1, 1.225, 1, 1, 1, 2.7e-4, 5e-5, 0.1778/2, 9.8, 0.015]\n",
    "\n",
    "J = ca.diag(ca.vertcat(Jx, Jy, Jz))\n",
    "\n",
    "x_dot = ca.vertcat(\n",
    "        ca.mtimes(ca.inv(J), M_b - ca.cross(omega_b, ca.mtimes(J, omega_b))),  # omega dot (angular acceleration)\n",
    "        F_b/m - ca.cross(omega_b, v_b),                                        # v dot (acceleration)\n",
    "        so3.Mrp.kinematics(r_nb, omega_b),                                     # angular velocity\n",
    "        ca.mtimes(C_nb, v_b),                                                  # velocity\n",
    "    )"
   ]
  },
  {
   "cell_type": "code",
   "execution_count": null,
   "metadata": {},
   "outputs": [],
   "source": [
    "def simulate(eqs, dt, tf):\n",
    "    eqs = derive_equations()\n",
    "    x0 = eqs['x0']\n",
    "    p0 = eqs['p0']\n",
    "    t_vect = np.arange(0, tf, dt)\n",
    "    xi = x0\n",
    "    data = {\n",
    "        't': [],\n",
    "        'x': [],\n",
    "        'u': [],\n",
    "        'euler': [],\n",
    "    }\n",
    "    for t in t_vect:\n",
    "        u = np.array(eqs['control'](xi, p0)).reshape(-1)\n",
    "\n",
    "        data['x'].append(xi)\n",
    "        data['u'].append(u)\n",
    "        data['t'].append(t)\n",
    "        data['euler'].append(np.array(eqs['mrp_to_euler'](xi[6:10])).reshape(-1))\n",
    "        \n",
    "        res = scipy.integrate.solve_ivp(fun=lambda t, x: np.array(eqs['rhs'](xi, u, p0)).reshape(-1), t_span=[t, t+dt], t_eval=[t+dt], y0=xi)\n",
    "        xi = res['y']\n",
    "        xi[6:10] = eqs['shadow_if_necessary'](xi[6:10])\n",
    "        xi = eqs['saturate'](xi)\n",
    "        xi = np.array(xi).reshape(-1)\n",
    "\n",
    "    for k in data.keys():\n",
    "        data[k] = np.array(data[k])\n",
    "    return data"
   ]
  }
 ],
 "metadata": {
  "kernelspec": {
   "display_name": "Python 3.7.8 64-bit ('pyt': conda)",
   "language": "python",
   "name": "python37864bitpytcondafd1b43a097a64d34bd7b82617eda6abc"
  },
  "language_info": {
   "codemirror_mode": {
    "name": "ipython",
    "version": 3
   },
   "file_extension": ".py",
   "mimetype": "text/x-python",
   "name": "python",
   "nbconvert_exporter": "python",
   "pygments_lexer": "ipython3",
   "version": "3.8.5"
  }
 },
 "nbformat": 4,
 "nbformat_minor": 4
}